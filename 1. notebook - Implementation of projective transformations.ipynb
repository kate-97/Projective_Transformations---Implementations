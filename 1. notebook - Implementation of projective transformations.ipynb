{
 "cells": [
  {
   "cell_type": "markdown",
   "metadata": {},
   "source": [
    "# Implementation of projective transformations"
   ]
  },
  {
   "cell_type": "markdown",
   "metadata": {},
   "source": [
    "## Naive algorithm"
   ]
  },
  {
   "cell_type": "markdown",
   "metadata": {},
   "source": [
    "In this notebook we will implement algorithms for determining projective transformation for given original points (at least 4 points) and their images. \n",
    "<br/><br/>\n",
    "Firstly, we will implement **naive algorithm**. It's based on composition of two transformations: inverted transformation from *basic points* (points with coordinates (1,0,0), (0,1,0), (0,0,1), (1,1,1)) to originals and transformation from basic points to images. They applied together are actually just this transformation."
   ]
  },
  {
   "cell_type": "code",
   "execution_count": 316,
   "metadata": {},
   "outputs": [],
   "source": [
    "# imports\n",
    "import numpy as np\n",
    "import matplotlib.pyplot as plt\n",
    "import math"
   ]
  },
  {
   "cell_type": "code",
   "execution_count": 317,
   "metadata": {},
   "outputs": [],
   "source": [
    "# inits\n",
    "names = ['A', 'B', 'C', 'D']\n",
    "coords = ['1. coordinate ', '2. coordinate ', '3. coordinate ']\n",
    "points_originals = []\n",
    "points_pictures  = []"
   ]
  },
  {
   "cell_type": "code",
   "execution_count": 318,
   "metadata": {},
   "outputs": [],
   "source": [
    "# utility method for entering points\n",
    "# arguments: \n",
    "#    - msg -- global message for whole input of points\n",
    "#    - foreach_msg -- message for each point\n",
    "#    - list of names of given points\n",
    "def input_points(msg, foreach_msg, names = names):\n",
    "    points = []\n",
    "    print(msg)\n",
    "    \n",
    "    for point in names:\n",
    "        print(foreach_msg, end = \" \")\n",
    "        print(\"{} \".format(point))\n",
    "        first_c = float(input(coords[0]))\n",
    "        second_c = float(input(coords[1]))\n",
    "        third_c = float(input(coords[2]))\n",
    "    \n",
    "        points.append([first_c, second_c, third_c])\n",
    "    return points"
   ]
  },
  {
   "cell_type": "code",
   "execution_count": 319,
   "metadata": {},
   "outputs": [
    {
     "name": "stdout",
     "output_type": "stream",
     "text": [
      "   Enter input points: \n",
      "* POINT A \n",
      "1. coordinate 1\n",
      "2. coordinate 2\n",
      "3. coordinate 3\n",
      "* POINT B \n",
      "1. coordinate 3\n",
      "2. coordinate 2\n",
      "3. coordinate 1\n",
      "* POINT C \n",
      "1. coordinate 0\n",
      "2. coordinate 1\n",
      "3. coordinate 1\n",
      "* POINT D \n",
      "1. coordinate 7\n",
      "2. coordinate 11\n",
      "3. coordinate 10\n"
     ]
    },
    {
     "data": {
      "text/plain": [
       "[[1.0, 2.0, 3.0], [3.0, 2.0, 1.0], [0.0, 1.0, 1.0], [7.0, 11.0, 10.0]]"
      ]
     },
     "execution_count": 319,
     "metadata": {},
     "output_type": "execute_result"
    }
   ],
   "source": [
    "# we enter original points\n",
    "points_originals = input_points(\"   Enter input points: \",\n",
    "                                \"* POINT\")\n",
    "points_originals"
   ]
  },
  {
   "cell_type": "code",
   "execution_count": 5,
   "metadata": {},
   "outputs": [
    {
     "name": "stdout",
     "output_type": "stream",
     "text": [
      "    Now enter appropriate images of these points\n",
      "* IMAGE OF POINT A \n",
      "1. coordinate -2\n",
      "2. coordinate -1\n",
      "3. coordinate 1\n",
      "* IMAGE OF POINT B \n",
      "1. coordinate 2\n",
      "2. coordinate -1\n",
      "3. coordinate 1\n",
      "* IMAGE OF POINT C \n",
      "1. coordinate 2\n",
      "2. coordinate 1\n",
      "3. coordinate 1\n",
      "* IMAGE OF POINT D \n",
      "1. coordinate -2\n",
      "2. coordinate 1\n",
      "3. coordinate 1\n"
     ]
    },
    {
     "data": {
      "text/plain": [
       "[[-2.0, -1.0, 1.0], [2.0, -1.0, 1.0], [2.0, 1.0, 1.0], [-2.0, 1.0, 1.0]]"
      ]
     },
     "execution_count": 5,
     "metadata": {},
     "output_type": "execute_result"
    }
   ],
   "source": [
    "# we enter images of points\n",
    "points_pictures = input_points(\"    Now enter appropriate images of these points\",\n",
    "                                \"* IMAGE OF POINT\")\n",
    "points_pictures"
   ]
  },
  {
   "cell_type": "code",
   "execution_count": 227,
   "metadata": {},
   "outputs": [],
   "source": [
    "points_originals = [[-3.0, -1.0, 1.0], [3.0, -1.0, 1.0], [1.0, 1.0, 1.0], [-1.0, 1.0, 1.0]]\n",
    "points_pictures  = [[-2.0, -1.0, 1.0], [2.0, -1.0, 1.0], [2.0, 1.0, 1.0], [-2.0, 1.0, 1.0]]"
   ]
  },
  {
   "cell_type": "code",
   "execution_count": 48,
   "metadata": {},
   "outputs": [],
   "source": [
    "def draw_plot(points_originals, points_pictures):\n",
    "    fig = plt.figure(figsize= (10,10))\n",
    "    f1 = fig.add_subplot(221)\n",
    "    points_originals_x = [e[0] for e in points_originals]\n",
    "    points_originals_y = [e[1] for e in points_originals]\n",
    "    f1.scatter(points_originals_x, points_originals_y, marker='o' , \n",
    "               linewidths= 4)\n",
    "\n",
    "    f2 = fig.add_subplot(222)\n",
    "    points_pictures_x = [e[0] for e in points_pictures]\n",
    "    points_pictures_y = [e[1] for e in points_pictures]\n",
    "    f2.scatter(points_pictures_x, points_pictures_y, marker='o' , \n",
    "               linewidths= 4, color = 'orange')\n",
    "    plt.show"
   ]
  },
  {
   "cell_type": "code",
   "execution_count": 228,
   "metadata": {},
   "outputs": [],
   "source": [
    "from copy import deepcopy"
   ]
  },
  {
   "cell_type": "markdown",
   "metadata": {},
   "source": [
    "## Visualitation of points and their images"
   ]
  },
  {
   "cell_type": "code",
   "execution_count": 26,
   "metadata": {},
   "outputs": [
    {
     "data": {
      "image/png": "[encoded data removed]",
      "text/plain": [
       "<Figure size 720x720 with 2 Axes>"
      ]
     },
     "metadata": {
      "needs_background": "light"
     },
     "output_type": "display_data"
    }
   ],
   "source": [
    "draw_plot(points_originals, points_pictures)"
   ]
  },
  {
   "cell_type": "code",
   "execution_count": 217,
   "metadata": {},
   "outputs": [],
   "source": [
    "# repeated part of Cramer's rule\n",
    "# utility method for create matrix delta_i, calcuating determinate, finding lambda - i\n",
    "# arguments:\n",
    "#    - matrix of system (coefficients with letters in system)\n",
    "#    - constants (numbers from other side of equations)\n",
    "#    - for witch letter we want to know value (witch lambda, expressed by order number)\n",
    "def lambda_i(matrix_of_system, constants, i):\n",
    "    delta_i = np.transpose(deepcopy(matrix_of_system))\n",
    "    delta_i[i] = constants\n",
    "    delta_i = np.transpose(np.array(delta_i))\n",
    "    \n",
    "    return np.linalg.det(delta_i) / np.linalg.det(np.array(matrix_of_system))"
   ]
  },
  {
   "cell_type": "code",
   "execution_count": 218,
   "metadata": {},
   "outputs": [],
   "source": [
    "# method of whole Cramer's rule, we solve whole system - find values of all 3 lambdas\n",
    "# matrix dimensions: (3x3), constants (1x3)\n",
    "def cramers_rule_3(matrix_of_system, constants):\n",
    "    lambda_1 = lambda_i(matrix_of_system, constants, 0)\n",
    "    lambda_2 = lambda_i(matrix_of_system, constants, 1)\n",
    "    lambda_3 = lambda_i(matrix_of_system, constants, 2)\n",
    "    \n",
    "    return (lambda_1, lambda_2, lambda_3)\n",
    "    "
   ]
  },
  {
   "cell_type": "code",
   "execution_count": 220,
   "metadata": {},
   "outputs": [],
   "source": [
    "# we find projection transformation witch\n",
    "# maps from base points ((1,0,0), (0,1,0), (0,0,1), (1,1,1))\n",
    "# to points given as argument (ALWAYS 4 points!)\n",
    "def projection_transformation_from_base(points):\n",
    "    matrix_of_system = np.array(points[:-1])\n",
    "    matrix_of_system = np.transpose(matrix_of_system)\n",
    "    lambdas = cramers_rule_3(matrix_of_system, points[-1])\n",
    "    transformation = []\n",
    "    \n",
    "    for i in range(0,3):\n",
    "        transformation.append([lambdas[i] * coordinate for coordinate in points[i]])\n",
    "    \n",
    "    return np.transpose(np.array(transformation))"
   ]
  },
  {
   "cell_type": "code",
   "execution_count": 221,
   "metadata": {},
   "outputs": [],
   "source": [
    "# Finally, we calculate matrix of whole projective transformation\n",
    "# from points_originals to points_pictures like composition\n",
    "# of previous tranformation of points_originals (inverted!) and points_pictures\n",
    "def projection_transformation(points_originals, points_pictures):\n",
    "    g = projection_transformation_from_base(points_originals)\n",
    "    f = projection_transformation_from_base(points_pictures)\n",
    "    \n",
    "    return np.dot(f, np.linalg.inv(g))"
   ]
  },
  {
   "cell_type": "code",
   "execution_count": 229,
   "metadata": {},
   "outputs": [
    {
     "data": {
      "text/plain": [
       "array([[ 2.,  0.,  0.],\n",
       "       [ 0.,  2., -1.],\n",
       "       [ 0., -1.,  2.]])"
      ]
     },
     "execution_count": 229,
     "metadata": {},
     "output_type": "execute_result"
    }
   ],
   "source": [
    "# Matrix of transformation\n",
    "final_function = projection_transformation(points_originals, points_pictures)\n",
    "final_function"
   ]
  },
  {
   "cell_type": "markdown",
   "metadata": {},
   "source": [
    "## DLT - algorithm"
   ]
  },
  {
   "cell_type": "markdown",
   "metadata": {},
   "source": [
    "**Naive algorithm** for calculating projective transformation for given 4 points and their images isn't bad in terms of time and memory (as its name maybe says), even it's great in this terms. But, it works just for 4 points and uniquely determines transformation. In general case somewhere we will have noise, so it's welcome we have much more given points for greater precision and algorithm which can do with more than 4 points.\n",
    "<br/><br/>\n",
    "Algorithm which can do with arbitrary number of points is **DLT - algorithm**. This is sort of algebraic algorithms based on SVD decomposition which minimizes error."
   ]
  },
  {
   "cell_type": "code",
   "execution_count": 53,
   "metadata": {},
   "outputs": [],
   "source": [
    "# utility method for finding rows for big matrix\n",
    "# for each point and its image\n",
    "# Arguments: point (original point) and point_picture (image of original point)\n",
    "# NOTE: We return touple with appropriate rows\n",
    "# (we calculate them by different formulas)\n",
    "def M(point, point_picture):\n",
    "    l1 = [0,0,0,\n",
    "          -point_picture[2] * point[0], \n",
    "          -point_picture[2] * point[1],\n",
    "          -point_picture[2] * point[2],\n",
    "          point_picture[1] * point[0],\n",
    "          point_picture[1] * point[1],\n",
    "          point_picture[1] * point[2]]\n",
    "    \n",
    "    l2 = [point_picture[2] * point[0], \n",
    "          point_picture[2] * point[1],\n",
    "          point_picture[2] * point[2],0,0,0,\n",
    "         -point_picture[0] * point[0], \n",
    "          -point_picture[0] * point[1],\n",
    "          -point_picture[0] * point[2]]\n",
    "    return (l1,l2)"
   ]
  },
  {
   "cell_type": "code",
   "execution_count": 54,
   "metadata": {},
   "outputs": [],
   "source": [
    "# utility method for making big matrix (we will decompose her )\n",
    "# NOTE: We there suppose same number of original points and their images!\n",
    "def A_matrix(points_originals, points_pictures):\n",
    "    A = []\n",
    "    n = len(points_originals)\n",
    "    for i in range(0,n):\n",
    "        hs = M(point=points_originals[i], point_picture=points_pictures[i])\n",
    "        A.append(hs[0])\n",
    "        A.append(hs[1])\n",
    "    return A"
   ]
  },
  {
   "cell_type": "code",
   "execution_count": 55,
   "metadata": {},
   "outputs": [],
   "source": [
    "# Finally, whole DLT algorithm\n",
    "\n",
    "# **NOTE** : Scaling is temporary disabled!\n",
    "# *****************************************\n",
    "# -----NOTE: We use final output from naive algorithm like valid output\n",
    "# (bad practice in general case)\n",
    "# for scaling on approximately values like them\n",
    "# (this 'damn lambda' in projective transformations)\n",
    "def DLT(points_originals, points_pictures):\n",
    "    A = A_matrix(points_originals, points_pictures) # big matrix\n",
    "    decomposition = np.linalg.svd(np.array(A))  # SVD decomposition of big matrix\n",
    "    \n",
    "    # parsing transformation from v matrix\n",
    "    transformation_ = np.array(decomposition[2][-1]).reshape(3,3)\n",
    "    \n",
    "    #transformation_ = transformation_ * ((final_function[0][0] / transformation_[0][0])) # scaling\n",
    "    return transformation_"
   ]
  },
  {
   "cell_type": "code",
   "execution_count": 15,
   "metadata": {},
   "outputs": [
    {
     "data": {
      "text/plain": [
       "array([[ 5.34522484e-01,  6.18413875e-17, -2.58635702e-16],\n",
       "       [-5.55111512e-17,  5.34522484e-01, -2.67261242e-01],\n",
       "       [-5.55111512e-17, -2.67261242e-01,  5.34522484e-01]])"
      ]
     },
     "execution_count": 15,
     "metadata": {},
     "output_type": "execute_result"
    }
   ],
   "source": [
    "DLT(points_originals, points_pictures)"
   ]
  },
  {
   "cell_type": "markdown",
   "metadata": {},
   "source": [
    "Now we found out why is this algorithm better for general usage. With more correspodences we have greater precision, and of course, better results. But still there are some issues.\n",
    "<br/><br/>\n",
    "Not good fact about this algorithm is non-invariance of changes of coordinates (beacuse this is just an algebraic and no geometry algorithm). Solution is doing *normalisation* of coordinates and then transformation won't depend of choice of coordinates. *Normalisation* is composed of determining center of points, its translating to $origin$ and scaling to average distance of origin $\\sqrt{2}$ ."
   ]
  },
  {
   "cell_type": "markdown",
   "metadata": {},
   "source": [
    "## Application to picture processing\n",
    "\n",
    "NOTE: Need to fix"
   ]
  },
  {
   "cell_type": "code",
   "execution_count": 127,
   "metadata": {},
   "outputs": [],
   "source": [
    "from PIL import Image"
   ]
  },
  {
   "cell_type": "code",
   "execution_count": 269,
   "metadata": {},
   "outputs": [],
   "source": [
    "points_originals = [[354.0,188.0,1.0], [365.0, 314.0, 1.0], [469.0, 254.0, 1.0], [452.0, 113.0, 1.0]]\n",
    "points_pictures  = [[369.0,179.0,1.0], [387.0, 337.0,1.0], [533.0, 334.0, 1.0], [521.0, 151.0,1.0]]"
   ]
  },
  {
   "cell_type": "code",
   "execution_count": 299,
   "metadata": {},
   "outputs": [],
   "source": [
    "def from_pixels(point, img_size):\n",
    "    p = [float(point[0]), float(img_size[1] - point[1]), 1.0]\n",
    "    #p = p.reshape(3,1)\n",
    "    #print(p)\n",
    "    return p"
   ]
  },
  {
   "cell_type": "code",
   "execution_count": 313,
   "metadata": {},
   "outputs": [],
   "source": [
    "def process_picture(name):\n",
    "    img_original = Image.open(name)\n",
    "    img_size = img_original.size\n",
    "    img_picture = Image.new('RGB', img_size, 'white')\n",
    "    transform = DLT(points_originals = points_originals, points_pictures=points_pictures)\n",
    "    transform /= transform[0,0]\n",
    "    transform = transform.transpose()\n",
    "    for i in range(0, img_original.size[0]):\n",
    "        for j in range(0, img_original.size[1]):\n",
    "            #from_pixels(point = [i,j], img_size = img_size)\n",
    "            #tp = np.dot(transform, from_pixels(point = [i,j], img_size = img_size))\n",
    "            tp = np.dot([i,j,1], transform)\n",
    "            #tp = tp.reshape(1,3)[0]\n",
    "            #tp = list(tp[0])\n",
    "            \n",
    "            if tp[2] == 0:\n",
    "                continue\n",
    "            tp = [(e / tp[2]) for e in tp]\n",
    "            if math.ceil(tp[0]) < 0 or math.ceil(tp[1]) < 0 or \\\n",
    "            math.ceil(tp[0]) > img_size[0] - 1 or math.ceil(tp[1]) > img_size[1] - 1:\n",
    "                    continue\n",
    "            #tp/= tp[2]\n",
    "            #print(tp)\n",
    "            #print(tp)\n",
    "            #tp = list(tp.reshape(1,3)[0])\n",
    "            #tp = [int(math.ceil(e)) for e in tp]\n",
    "            #print(tp)\n",
    "            #if tp[0] < 0 or img_original.size[1] - tp[1] > 0 or tp[0] >= img_original.size[0] or img_original.size[1] - tp[1] >= img_original.size[1]:\n",
    "            #        continue\n",
    "            #img_size = img_original.size\n",
    "            #img_picture.putpixel((tp[0], img_size[1] - tp[1]), img_original.getpixel((i, j)))\n",
    "            #img_picture.save()\n",
    "            \n",
    "            col = img_original.getpixel((i,j))\n",
    "            img_original.putpixel((math.ceil(tp[0]), math.ceil(tp[1])), col)\n",
    "    return img_picture"
   ]
  },
  {
   "cell_type": "code",
   "execution_count": 314,
   "metadata": {},
   "outputs": [
    {
     "data": {
      "image/png": "[encoded data removed]",
      "text/plain": [
       "<PIL.Image.Image image mode=RGB size=600x775 at 0x7FD5F552F048>"
      ]
     },
     "execution_count": 314,
     "metadata": {},
     "output_type": "execute_result"
    }
   ],
   "source": [
    "process_picture('building.png')"
   ]
  },
  {
   "cell_type": "code",
   "execution_count": 124,
   "metadata": {},
   "outputs": [],
   "source": [
    "# drugi pokusaj\n",
    "def transform_picture(path):\n",
    "    transformation = DLT(points_originals = points_originals,\n",
    "                         points_pictures  = points_pictures)\n",
    "    \n",
    "    img = Image.open(path)\n",
    "    img_pixels = Image.\n",
    "    \n",
    "    img_picture_pixels = img_pixels\n",
    "    img_picture_pixels.reshape()\n",
    "    img_picture_pixels.fill(255)\n",
    "    \n",
    "    for i in range(0, img_dimensions[1]):\n",
    "        for j in range(0, img_dimensions[0]):\n",
    "            t = np.array([i, img_dimensions[0] - j, 1])\n",
    "            t.reshape(1,3)\n",
    "            transformated_pixel = np.dot(transformation,t)\n",
    "            #print(transformated_pixel)\n",
    "            transformated_pixel /= transformated_pixel[2]\n",
    "            #print(transformated_pixel)\n",
    "            X = int(transformated_pixel[0])\n",
    "            Y = int(transformated_pixel[1])\n",
    "            \n",
    "            if X < 0 or Y  < 0 or X > img_dimensions[0] or Y > img_dimensions[1]:\n",
    "                continue\n",
    "            \n",
    "            img_picture_pixels[X - 1,img_dimensions[1] - 1 - Y,0] = img_pixels[i,j,0]\n",
    "            img_picture_pixels[X - 1,img_dimensions[1] - 1 - Y,1] = img_pixels[i,j,1]\n",
    "            img_picture_pixels[X - 1,img_dimensions[1] - 1 - Y,2] = img_pixels[i,j,2]\n",
    "    \n",
    "    img.close()\n",
    "    return img_picture_pixels"
   ]
  },
  {
   "cell_type": "markdown",
   "metadata": {},
   "source": [
    "## Modificated DLT - algorithm (*with normalisation*)"
   ]
  },
  {
   "cell_type": "markdown",
   "metadata": {},
   "source": [
    "**Center of points** (in affine coordinates):\n",
    "\n",
    "Formula for determining center of points (equal masses):\n",
    "\n",
    "$$\\sum\\limits_{i = 1}^{n}{\\vec{TAi}} = \\vec{0}$$\n",
    "\n",
    "Further we get\n",
    "\n",
    "$$ \\sum\\limits_{i=1}^{n} \\pmatrix{x_{ai} \\\\ y_{ai}} - \\pmatrix{x_t \\\\ y_t } = \\pmatrix{0 \\\\ 0}$$\n",
    "\n",
    "$$ \\sum\\limits_{i=1}^{n} \\pmatrix{x_{ai} - x_t \\\\ y_{ai} - y_t } = \\pmatrix {0 \\\\ 0 } $$\n",
    "\n",
    "$$ \\sum\\limits_{i=1}^{n} x_{ai} - x_t = 0 ,  \\sum\\limits_{i=1}^{n} y_{ai} - y_t = 0  $$\n",
    " \n",
    "$$ \\sum\\limits_{i=1}^{n} x_{ai} = n * x_t ,  \\sum\\limits_{i=1}^{n} y_{ai} = n * y_t $$\n",
    "\n",
    "So, we at the end get \n",
    "\n",
    "$$ \\frac{\\sum\\limits_{i=1}^{n} x_{ai}}{n} = x_t , \\frac{\\sum\\limits_{i=1}^{n} y_{ai}}{n} = y_t $$\n",
    "\n",
    "$$ \\boxed{x_t = \\overline{x_{ai}}},\\boxed{y_t = \\overline{y_{ai}}} $$\n",
    "\n",
    "We will applicate just this formula."
   ]
  },
  {
   "cell_type": "code",
   "execution_count": 16,
   "metadata": {},
   "outputs": [],
   "source": [
    "# utility method for determining center of points\n",
    "# points given like two-component touples with affine coordinates\n",
    "def center_of_points(points):\n",
    "    xs = [point[0] for point in points]\n",
    "    ys = [point[1] for point in points]\n",
    "    \n",
    "    return (np.average(xs), np.average(ys))"
   ]
  },
  {
   "cell_type": "markdown",
   "metadata": {},
   "source": [
    "**Scaling to average distance of $origin$ $\\sqrt{2}$**\n",
    "\n",
    "Let's $\\sigma$ average distance of $origin$.\n",
    "\n",
    "$$ \\sigma = \\frac{\\sum\\limits_{i=1}^{n}{\\sqrt{x_i^2 + y_i^2}}}{n} $$\n",
    "$$ \\frac{\\sqrt{2}}{\\sigma} * / \\sigma = \\frac{\\sum\\limits_{i=1}^{n}{\\sqrt{x_i^2 + y_i^2}}}{n} $$\n",
    "$$ \\sqrt{2} = \\frac{(\\frac{\\sqrt{2}}{\\sigma})*\\sum\\limits_{i=1}^{n}{\\sqrt{x_i^2 + y_i^2}}}{n} $$\n",
    "$$ \\sqrt{2} = \\frac{\\sum\\limits_{i=1}^{n}{\\sqrt{(\\frac{\\sqrt{2}}{\\sigma})^2*(x_i^2 + y_i^2)}}}{n} $$\n",
    "$$ \\sqrt{2} = \\frac{\\sum\\limits_{i=1}^{n}{\\sqrt{(((\\frac{\\sqrt{2}}{\\sigma})*x_i)^2 + ((\\frac{\\sqrt{2}}{\\sigma})*y_i)^2)}}}{n} $$\n",
    "\n",
    "So we can do scalling with parameter $(\\frac{\\sqrt{2}}{\\sigma})$ to both coordinates. (homotety with coefficient $k=(\\frac{\\sqrt{2}}{\\sigma})$ )"
   ]
  },
  {
   "cell_type": "code",
   "execution_count": 17,
   "metadata": {},
   "outputs": [],
   "source": [
    "# utility method for calculating scaling matrix (like projective transformation)\n",
    "# points given like two-component touples with affine coordinates\n",
    "# it could be shorter using numpy's properties and some optimizations\n",
    "# but now isn't focus on this\n",
    "def scaling_to_sqrt_2(points): \n",
    "    sigma = 0\n",
    "    for (x,y) in points:\n",
    "        sigma += math.sqrt(x**2 + y**2)\n",
    "    sigma /= (len(points))\n",
    "    k = math.sqrt(2) / sigma\n",
    "    return np.array([[k,0,0], [0,k,0],[0,0,1]]).reshape(3,3)"
   ]
  },
  {
   "cell_type": "code",
   "execution_count": 18,
   "metadata": {},
   "outputs": [],
   "source": [
    "# utility method for conversion from homogeneous to affine coordinates\n",
    "# points given like three-component touples with homogeneous coordinates\n",
    "# NOTE: We suppose NO INFINITY FAR points in list\n",
    "def get_affine(points):\n",
    "    return [(x[0]/x[2], x[1]/x[2]) for x in points]"
   ]
  },
  {
   "cell_type": "code",
   "execution_count": 19,
   "metadata": {},
   "outputs": [],
   "source": [
    "# utility method for conversion to homogeneous from affine coordinates\n",
    "# points given like two-component touples with affine coordinates\n",
    "def to_homogenous(points):\n",
    "    return [(x[0], x[1], 1) for x in points]"
   ]
  },
  {
   "cell_type": "code",
   "execution_count": 20,
   "metadata": {},
   "outputs": [],
   "source": [
    "# method for whole calculating matrix of normalisation\n",
    "# points given like three-component touples with homogeneous coordinates\n",
    "def normalization(points):\n",
    "    a_points = get_affine(points)\n",
    "    t = center_of_points(a_points)\n",
    "    \n",
    "    # matrix of translation\n",
    "    T = np.array([[1,0,-t[0]],\n",
    "                  [0,1,-t[1]],\n",
    "                  [0,0,1]  ])\n",
    "    S = scaling_to_sqrt_2(a_points)\n",
    "    return np.dot(S, T)"
   ]
  },
  {
   "cell_type": "code",
   "execution_count": 21,
   "metadata": {},
   "outputs": [],
   "source": [
    "# utility method for application got normalization transformation on points\n",
    "# points are given in homogenous coordinates\n",
    "def normalize_points(points):\n",
    "    points_arg = []\n",
    "    N = normalization(points)\n",
    "    \n",
    "    for point in points:\n",
    "        p = np.dot(N,np.array(point).reshape(3,1)).reshape(1,3)[0]\n",
    "        points_arg.append(p)\n",
    "    \n",
    "    return points_arg"
   ]
  },
  {
   "cell_type": "code",
   "execution_count": 22,
   "metadata": {
    "scrolled": true
   },
   "outputs": [],
   "source": [
    "# Whole DLT algorithm with normalization\n",
    "def modified_DLT(points_originals, points_pictures):\n",
    "    N_o = normalization(points_originals)\n",
    "    N_p = normalization(points_pictures)\n",
    "    points_o_norm = normalize_points(points_originals)\n",
    "    points_p_norm = normalize_points(points_pictures)\n",
    "    \n",
    "    P = DLT(points_originals = points_o_norm,\n",
    "            points_pictures  = points_p_norm)\n",
    "    \n",
    "    N_p_inv = np.linalg.inv(N_p)\n",
    "    \n",
    "    return np.dot(np.dot(N_p_inv,P), N_o)"
   ]
  },
  {
   "cell_type": "code",
   "execution_count": 23,
   "metadata": {},
   "outputs": [
    {
     "data": {
      "text/plain": [
       "array([[ 0.17244779, -0.53985373,  1.17768421],\n",
       "       [ 0.10144537, -0.04660686,  0.87252043],\n",
       "       [-0.04280793,  0.00713466,  0.88477719]])"
      ]
     },
     "execution_count": 23,
     "metadata": {},
     "output_type": "execute_result"
    }
   ],
   "source": [
    "# Totally random values for demonstration\n",
    "modified_DLT([(1,2,3),(-4,5,6)], [(1,1,1), (4,5,6)])"
   ]
  },
  {
   "cell_type": "code",
   "execution_count": 24,
   "metadata": {},
   "outputs": [
    {
     "data": {
      "text/plain": [
       "array([[ 5.09717651e-01,  4.60060610e-17,  1.03645504e-16],\n",
       "       [-5.42453603e-17,  5.09717651e-01, -2.54858825e-01],\n",
       "       [ 1.71538891e-17, -2.54858825e-01,  5.09717651e-01]])"
      ]
     },
     "execution_count": 24,
     "metadata": {},
     "output_type": "execute_result"
    }
   ],
   "source": [
    "# Test values\n",
    "modified_DLT(points_originals, points_pictures)"
   ]
  },
  {
   "cell_type": "code",
   "execution_count": null,
   "metadata": {},
   "outputs": [],
   "source": []
  },
  {
   "cell_type": "code",
   "execution_count": null,
   "metadata": {},
   "outputs": [],
   "source": []
  },
  {
   "cell_type": "code",
   "execution_count": null,
   "metadata": {},
   "outputs": [],
   "source": []
  },
  {
   "cell_type": "code",
   "execution_count": null,
   "metadata": {},
   "outputs": [],
   "source": []
  },
  {
   "cell_type": "code",
   "execution_count": null,
   "metadata": {},
   "outputs": [],
   "source": []
  },
  {
   "cell_type": "code",
   "execution_count": 34,
   "metadata": {},
   "outputs": [],
   "source": [
    "from tkinter import *\n",
    "from PIL import Image, ImageTk"
   ]
  },
  {
   "cell_type": "code",
   "execution_count": 315,
   "metadata": {},
   "outputs": [],
   "source": [
    "root = Tk()  # create a window\n",
    "\n",
    "frame = Frame(root)  # define upper frame\n",
    "middleframe = Frame(root)  # define middle frame\n",
    "exitFrame = Frame(root)  # define exit frame\n",
    "frame.pack()  # pack the frame\n",
    "middleframe.pack()  # pack the subframe\n",
    "exitFrame.pack(side = 'bottom')  # pack the exit frame\n",
    "\n",
    "# function that closes the GUI\n",
    "def close_window(): \n",
    "    root.destroy()\n",
    "\n",
    "# load the image\n",
    "img = PhotoImage(file=\"building.png\")  # save the image\n",
    "panel = Label(frame, image=img)  # display the image as a label\n",
    "panel.grid(row=0, column=0)  # pack the image\n",
    "\n",
    "# make the user select some points\n",
    "global x_Coordinates  # initialize empty list for storing x-axis coordinates\n",
    "global y_Coordinates  # initialize empty list for storing y-axis coordinates\n",
    "x_Coordinates = []\n",
    "y_Coordinates = []\n",
    "\n",
    "clicks = 0\n",
    "def countClicks():\n",
    "    global clicks # this will use the variable to count\n",
    "    clicks = clicks + 1  # increment \"clicks\"\n",
    "    if clicks == 2: # if the user has selected 2 points, add a button that closes the window\n",
    "        exit_button = Button(exitFrame, state = \"normal\", text = \"Done!\", command = close_window)  # link the closing function to the button\n",
    "        exit_button.grid(row=2, column=0, pady=5)  # set button position with \"grid\"        \n",
    "pass\n",
    "\n",
    "def selectPoints():  # function called when user clicks the button \"select two points\"\n",
    "    panel.bind(\"<Button 1>\", saveCoordinates)  #  link the function to the left-mouse-click event\n",
    "    exit_button = Button (exitFrame, state = \"disabled\", text = \"Done!\", command = close_window)  # link closing function to the button\n",
    "    exit_button.grid(row=2, column=0, pady=5)  # set button position with \"grid\"\n",
    "    button_select_points.config(state = \"disabled\") # switch button state to \"disabled\"\n",
    "\n",
    "def saveCoordinates(event): # function called when left-mouse-button is clicked   \n",
    "    x_coordinate = event.x  # save x and y coordinates selected by the user\n",
    "    y_coordinate = event.y\n",
    "   #print(\"X: \", x_coordinate)\n",
    "   #print(\"Y: \", y_coordinate)\n",
    "   #print()\n",
    "   #print(\"----------\")\n",
    "   #print()\n",
    "    x_Coordinates.append(x_coordinate)  # append to external list\n",
    "    y_Coordinates.append(y_coordinate)  # append to external list\n",
    "    countClicks()  # invoke function \"countClicks\"\n",
    "\n",
    "button_select_points = Button(middleframe, text = \"select two points\", command = selectPoints)  # insert button and link it to \"selectPoints\"\n",
    "button_select_points.grid(row=1, column=0, pady=5)  # set button position with \"grid\"\n",
    "\n",
    "root.mainloop()  # keep the GUI open"
   ]
  },
  {
   "cell_type": "code",
   "execution_count": null,
   "metadata": {},
   "outputs": [],
   "source": [
    "import sys\n",
    "from PyQt5.QtWidgets import QApplication, QWidget, QLabel\n",
    "from PyQt5.QtGui import QIcon, QPixmap\n",
    "\n",
    "class App(QWidget):\n",
    "\n",
    "    def __init__(self):\n",
    "        super().__init__()\n",
    "        self.title = 'PyQt5 image - pythonspot.com'\n",
    "        self.left = 10\n",
    "        self.top = 10\n",
    "        self.width = 640\n",
    "        self.height = 480\n",
    "        self.initUI()\n",
    "    \n",
    "    def initUI(self):\n",
    "        self.setWindowTitle(self.title)\n",
    "        self.setGeometry(self.left, self.top, self.width, self.height)\n",
    "    \n",
    "        # Create widget\n",
    "        label = QLabel(self)\n",
    "        pixmap = QPixmap('image.jpeg')\n",
    "        label.setPixmap(pixmap)\n",
    "        self.resize(pixmap.width(),pixmap.height())\n",
    "        \n",
    "        self.show()\n",
    "\n",
    "\n",
    "app = QApplication(['My application'])\n",
    "ex = App()\n",
    "sys.exit(app.exec_())\n"
   ]
  },
  {
   "cell_type": "code",
   "execution_count": null,
   "metadata": {},
   "outputs": [],
   "source": []
  }
 ],
 "metadata": {
  "kernelspec": {
   "display_name": "Python 3",
   "language": "python",
   "name": "python3"
  },
  "language_info": {
   "codemirror_mode": {
    "name": "ipython",
    "version": 3
   },
   "file_extension": ".py",
   "mimetype": "text/x-python",
   "name": "python",
   "nbconvert_exporter": "python",
   "pygments_lexer": "ipython3",
   "version": "3.6.8"
  }
 },
 "nbformat": 4,
 "nbformat_minor": 2
}
