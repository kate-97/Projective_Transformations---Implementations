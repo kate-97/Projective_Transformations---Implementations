{
 "cells": [
  {
   "cell_type": "markdown",
   "metadata": {},
   "source": [
    "# Implementation of projective transformations"
   ]
  },
  {
   "cell_type": "markdown",
   "metadata": {},
   "source": [
    "## Naive algorithm"
   ]
  },
  {
   "cell_type": "markdown",
   "metadata": {},
   "source": [
    "In this notebook we will implement algorithms for determining projective transformation for given original points (at least 4 points) and their images. \n",
    "<br/><br/>\n",
    "Firstly, we will implement **naive algorithm**. It's based on composition of two transformations: inverted transformation from *basic points* (points with coordinates (1,0,0), (0,1,0), (0,0,1), (1,1,1)) to originals and transformation from basic points to images. They applied together are actually just this transformation."
   ]
  },
  {
   "cell_type": "code",
   "execution_count": 1,
   "metadata": {},
   "outputs": [],
   "source": [
    "# imports\n",
    "import numpy as np"
   ]
  },
  {
   "cell_type": "code",
   "execution_count": 2,
   "metadata": {},
   "outputs": [],
   "source": [
    "# inits\n",
    "names = ['A', 'B', 'C', 'D']\n",
    "coords = ['1. coordinate ', '2. coordinate ', '3. coordinate ']\n",
    "points_originals = []\n",
    "points_pictures  = []"
   ]
  },
  {
   "cell_type": "code",
   "execution_count": 3,
   "metadata": {},
   "outputs": [],
   "source": [
    "# utility method for entering points\n",
    "# arguments: \n",
    "#    - msg -- global message for whole input of points\n",
    "#    - foreach_msg -- message for each point\n",
    "#    - list of names of given points\n",
    "def input_points(msg, foreach_msg, names = names):\n",
    "    points = []\n",
    "    print(msg)\n",
    "    \n",
    "    for point in names:\n",
    "        print(foreach_msg, end = \" \")\n",
    "        print(\"{} \".format(point))\n",
    "        first_c = float(input(coords[0]))\n",
    "        second_c = float(input(coords[1]))\n",
    "        third_c = float(input(coords[2]))\n",
    "    \n",
    "        points.append([first_c, second_c, third_c])\n",
    "    return points"
   ]
  },
  {
   "cell_type": "code",
   "execution_count": 4,
   "metadata": {},
   "outputs": [
    {
     "name": "stdout",
     "output_type": "stream",
     "text": [
      "   Enter input points: \n",
      "* POINT A \n",
      "1. coordinate -3\n",
      "2. coordinate -1\n",
      "3. coordinate 1\n",
      "* POINT B \n",
      "1. coordinate 3\n",
      "2. coordinate -1\n",
      "3. coordinate 1\n",
      "* POINT C \n",
      "1. coordinate 1\n",
      "2. coordinate 1\n",
      "3. coordinate 1\n",
      "* POINT D \n",
      "1. coordinate -1\n",
      "2. coordinate 1\n",
      "3. coordinate 1\n"
     ]
    },
    {
     "data": {
      "text/plain": [
       "[[-3.0, -1.0, 1.0], [3.0, -1.0, 1.0], [1.0, 1.0, 1.0], [-1.0, 1.0, 1.0]]"
      ]
     },
     "execution_count": 4,
     "metadata": {},
     "output_type": "execute_result"
    }
   ],
   "source": [
    "# we enter original points\n",
    "points_originals = input_points(\"   Enter input points: \",\n",
    "                                \"* POINT\")\n",
    "points_originals"
   ]
  },
  {
   "cell_type": "code",
   "execution_count": 5,
   "metadata": {},
   "outputs": [
    {
     "name": "stdout",
     "output_type": "stream",
     "text": [
      "    Now enter appropriate images of these points\n",
      "* IMAGE OF POINT A \n",
      "1. coordinate -2\n",
      "2. coordinate -1\n",
      "3. coordinate 1\n",
      "* IMAGE OF POINT B \n",
      "1. coordinate 2\n",
      "2. coordinate -1\n",
      "3. coordinate 1\n",
      "* IMAGE OF POINT C \n",
      "1. coordinate 2\n",
      "2. coordinate 1\n",
      "3. coordinate 1\n",
      "* IMAGE OF POINT D \n",
      "1. coordinate -2\n",
      "2. coordinate 1\n",
      "3. coordinate 1\n"
     ]
    },
    {
     "data": {
      "text/plain": [
       "[[-2.0, -1.0, 1.0], [2.0, -1.0, 1.0], [2.0, 1.0, 1.0], [-2.0, 1.0, 1.0]]"
      ]
     },
     "execution_count": 5,
     "metadata": {},
     "output_type": "execute_result"
    }
   ],
   "source": [
    "# we enter images of points\n",
    "points_pictures = input_points(\"    Now enter appropriate images of these points\",\n",
    "                                \"* IMAGE OF POINT\")\n",
    "points_pictures"
   ]
  },
  {
   "cell_type": "code",
   "execution_count": 6,
   "metadata": {},
   "outputs": [],
   "source": [
    "from copy import deepcopy"
   ]
  },
  {
   "cell_type": "code",
   "execution_count": 7,
   "metadata": {},
   "outputs": [],
   "source": [
    "# repeated part of Cramer's rule\n",
    "# utility method for create matrix delta_i, calcuating determinate, finding lambda - i\n",
    "# arguments:\n",
    "#    - matrix of system (coefficients with letters in system)\n",
    "#    - constants (numbers from other side of equations)\n",
    "#    - for witch letter we want to know value (witch lambda, expressed by order number)\n",
    "def lambda_i(matrix_of_system, constants, i):\n",
    "    delta_i = np.transpose(deepcopy(matrix_of_system))\n",
    "    delta_i[i] = constants\n",
    "    delta_i = np.transpose(np.array(delta_i))\n",
    "    \n",
    "    return np.linalg.det(delta_i) / np.linalg.det(np.array(matrix_of_system))"
   ]
  },
  {
   "cell_type": "code",
   "execution_count": 8,
   "metadata": {},
   "outputs": [],
   "source": [
    "# method of whole Cramer's rule, we solve whole system - find values of all 3 lambdas\n",
    "# matrix dimensions: (3x3), constants (1x3)\n",
    "def cramers_rule_3(matrix_of_system, constants):\n",
    "    lambda_1 = lambda_i(matrix_of_system, constants, 0)\n",
    "    lambda_2 = lambda_i(matrix_of_system, constants, 1)\n",
    "    lambda_3 = lambda_i(matrix_of_system, constants, 2)\n",
    "    \n",
    "    return (lambda_1, lambda_2, lambda_3)\n",
    "    "
   ]
  },
  {
   "cell_type": "code",
   "execution_count": 9,
   "metadata": {},
   "outputs": [],
   "source": [
    "# we find projection transformation witch\n",
    "# maps from base points ((1,0,0), (0,1,0), (0,0,1), (1,1,1))\n",
    "# to points given as argument (ALWAYS 4 points!)\n",
    "def projection_transformation_from_base(points):\n",
    "    matrix_of_system = np.array(points[:-1])\n",
    "    matrix_of_system = np.transpose(matrix_of_system)\n",
    "    lambdas = cramers_rule_3(matrix_of_system, points[-1])\n",
    "    transformation = []\n",
    "    \n",
    "    for i in range(0,3):\n",
    "        transformation.append([lambdas[i] * coordinate for coordinate in points[i]])\n",
    "    \n",
    "    return np.transpose(np.array(transformation))"
   ]
  },
  {
   "cell_type": "code",
   "execution_count": 10,
   "metadata": {},
   "outputs": [],
   "source": [
    "# Finally, we calculate matrix of whole projective transformation\n",
    "# from points_originals to points_pictures like composition\n",
    "# of previous tranformation of points_originals (inverted!) and points_pictures\n",
    "def projection_transformation(points_originals, points_pictures):\n",
    "    g = projection_transformation_from_base(points_originals)\n",
    "    f = projection_transformation_from_base(points_pictures)\n",
    "    \n",
    "    return np.dot(f, np.linalg.inv(g))"
   ]
  },
  {
   "cell_type": "code",
   "execution_count": 11,
   "metadata": {},
   "outputs": [
    {
     "data": {
      "text/plain": [
       "array([[ 2.,  0.,  0.],\n",
       "       [ 0.,  2., -1.],\n",
       "       [ 0., -1.,  2.]])"
      ]
     },
     "execution_count": 11,
     "metadata": {},
     "output_type": "execute_result"
    }
   ],
   "source": [
    "# Matrix of transformation\n",
    "final_function = projection_transformation(points_originals, points_pictures)\n",
    "final_function"
   ]
  },
  {
   "cell_type": "markdown",
   "metadata": {},
   "source": [
    "## DLT - algorithm"
   ]
  },
  {
   "cell_type": "markdown",
   "metadata": {},
   "source": [
    "**Naive algorithm** for calculating projective transformation for given 4 points and their images isn't bad in terms of time and memory (like its name maybe says), even it's great in this terms. But, it works just for 4 points and uniquely determines transformation. In general case somewhere we will have noise, so it's welcome we have much more given points for greater precision and algorithm which can do with more than 4 points.\n",
    "<br/><br/>\n",
    "Algorithm which can do with arbitrary number of points is **DLT - algorithm**. This is sort of algebraic algorithms based on SVD decomposition which minimizes error."
   ]
  },
  {
   "cell_type": "code",
   "execution_count": 12,
   "metadata": {},
   "outputs": [],
   "source": [
    "# utility method for finding rows for big matrix\n",
    "# for each point and its image\n",
    "# Arguments: point (original point) and point_picture (image of original point)\n",
    "# NOTE: We return touple with appropriate rows\n",
    "# (we calculate them by different formulas)\n",
    "def M(point, point_picture):\n",
    "    l1 = [0,0,0,\n",
    "          -point_picture[2] * point[0], \n",
    "          -point_picture[2] * point[1],\n",
    "          -point_picture[2] * point[2],\n",
    "          point_picture[1] * point[0],\n",
    "          point_picture[1] * point[1],\n",
    "          point_picture[1] * point[2]]\n",
    "    \n",
    "    l2 = [point_picture[2] * point[0], \n",
    "          point_picture[2] * point[1],\n",
    "          point_picture[2] * point[2],0,0,0,\n",
    "         -point_picture[0] * point[0], \n",
    "          -point_picture[0] * point[1],\n",
    "          -point_picture[0] * point[2]]\n",
    "    return (l1,l2)"
   ]
  },
  {
   "cell_type": "code",
   "execution_count": 13,
   "metadata": {},
   "outputs": [],
   "source": [
    "# utility method for making big matrix (we will decompose her )\n",
    "# NOTE: We there suppose same number of original points and their images!\n",
    "def A_matrix(points_originals, points_pictures):\n",
    "    A = []\n",
    "    n = len(points_originals)\n",
    "    for i in range(0,n):\n",
    "        hs = M(point=points_originals[i], point_picture=points_pictures[i])\n",
    "        A.append(hs[0])\n",
    "        A.append(hs[1])\n",
    "    return A"
   ]
  },
  {
   "cell_type": "code",
   "execution_count": 20,
   "metadata": {},
   "outputs": [],
   "source": [
    "# Finally, whole DLT algorithm\n",
    "# NOTE: We use final output from naive algorithm like valid output\n",
    "# (bad practice in general case)\n",
    "# for scaling on approximately values like them\n",
    "# (this 'damn lambda' in projective transformations)\n",
    "def DLT(points_originals, points_pictures):\n",
    "    A = A_matrix(points_originals, points_pictures) # big matrix\n",
    "    decomposition = np.linalg.svd(np.array(A))  # SVD decomposition of big matrix\n",
    "    \n",
    "    # parsing transformation from v matrix\n",
    "    transformation_ = np.array(decomposition[2][-1]).reshape(3,3)\n",
    "    transformation_ = matrix * ((final_function[0][0] / transformation_[0][0])) # scaling\n",
    "    return transformation_"
   ]
  },
  {
   "cell_type": "code",
   "execution_count": 21,
   "metadata": {},
   "outputs": [
    {
     "data": {
      "text/plain": [
       "array([[ 2.00000000e+00,  2.31389284e-16, -9.67726185e-16],\n",
       "       [-2.07703709e-16,  2.00000000e+00, -1.00000000e+00],\n",
       "       [-2.07703709e-16, -1.00000000e+00,  2.00000000e+00]])"
      ]
     },
     "execution_count": 21,
     "metadata": {},
     "output_type": "execute_result"
    }
   ],
   "source": [
    "DLT(points_originals, points_pictures)"
   ]
  },
  {
   "cell_type": "markdown",
   "metadata": {},
   "source": [
    "Now we found out why is this algorithm better for general usage. With more correspodences we have greater precision, and of course, better results. But still there are some assues.\n",
    "<br/><br/>\n",
    "Not good fact about this algorithm is non-invariance of changes of coordinates (beacuse this is just an algebraic and no geometry algorithm). Solution is doing *normalisation* of coordinates and then transformation won't depend of choice of coordinates. *Normalisation* is composed of determining center of points, its translating to $origin$ and scaling to average distance of origin $\\sqrt{2}$ ."
   ]
  }
 ],
 "metadata": {
  "kernelspec": {
   "display_name": "Python 3",
   "language": "python",
   "name": "python3"
  },
  "language_info": {
   "codemirror_mode": {
    "name": "ipython",
    "version": 3
   },
   "file_extension": ".py",
   "mimetype": "text/x-python",
   "name": "python",
   "nbconvert_exporter": "python",
   "pygments_lexer": "ipython3",
   "version": "3.6.8"
  }
 },
 "nbformat": 4,
 "nbformat_minor": 2
}
