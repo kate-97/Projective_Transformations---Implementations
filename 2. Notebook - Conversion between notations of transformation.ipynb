{
 "cells": [
  {
   "cell_type": "markdown",
   "metadata": {},
   "source": [
    "# Conversion between different notations"
   ]
  },
  {
   "cell_type": "code",
   "execution_count": 1,
   "metadata": {},
   "outputs": [],
   "source": [
    "import numpy as np\n",
    "import math"
   ]
  },
  {
   "cell_type": "markdown",
   "metadata": {},
   "source": [
    "## Tests"
   ]
  },
  {
   "cell_type": "code",
   "execution_count": 25,
   "metadata": {},
   "outputs": [
    {
     "name": "stdout",
     "output_type": "stream",
     "text": [
      "(-0.24497866312686414, -1.09491407713448, 1.3258176636680326)\n"
     ]
    }
   ],
   "source": [
    "e2 = ( -np.arctan(0.25), -np.arcsin(8.0/9.0), np.arctan(4.0))\n",
    "print(e2)\n",
    "A = np.array([[0.111111 , -0.888889, -0.444444], \n",
    "              [0.444444 ,  0.444444, -0.777778],\n",
    "              [0.888889 , -0.111111,  0.444444]])\n",
    "\n",
    "Aa = ([1/3, -2/3, 2/3], math.pi/2)\n",
    "q = (1/(3 * math.sqrt(2))  , -math.sqrt(2)/3 , math.sqrt(2)/3, 1/math.sqrt(2))"
   ]
  },
  {
   "cell_type": "markdown",
   "metadata": {},
   "source": [
    "$ Matrix$ $notation \\leftrightarrow Euler's $ $ angles $"
   ]
  },
  {
   "cell_type": "code",
   "execution_count": 3,
   "metadata": {},
   "outputs": [],
   "source": [
    "def conversionFromMatrixToEulers(transformation):\n",
    "    if abs(transformation[2,0]) < 1:\n",
    "        # normal case\n",
    "        yaw = math.atan2(transformation[1,0], transformation[0,0])\n",
    "        pitch = np.arcsin(-transformation[2,0])\n",
    "        rolling = math.atan2( transformation[2,1], transformation[2,2])\n",
    "    elif transformation[2,0] == -1:\n",
    "        # gimball lock\n",
    "        yaw = math.atan2( transformation[1,1], -transformation[0,1])\n",
    "        pitch = math.pi / 2\n",
    "        rolling = 0\n",
    "    elif transformation[2,0] == 1:\n",
    "        # gimball lock\n",
    "        yaw = math.atan2( transformation[0,1], -transformation[1,1])\n",
    "        pitch = -math.pi / 2\n",
    "        rolling = 0\n",
    "    \n",
    "    return (yaw, pitch, rolling)"
   ]
  },
  {
   "cell_type": "code",
   "execution_count": 4,
   "metadata": {},
   "outputs": [
    {
     "data": {
      "text/plain": [
       "(1.3258176636680326, -1.0949143196701623, -0.24497866312686414)"
      ]
     },
     "execution_count": 4,
     "metadata": {},
     "output_type": "execute_result"
    }
   ],
   "source": [
    "conversionFromMatrixToEulers(A)"
   ]
  },
  {
   "cell_type": "code",
   "execution_count": 5,
   "metadata": {},
   "outputs": [
    {
     "data": {
      "text/plain": [
       "array([[ 0.11111111, -0.88888889,  0.44444444],\n",
       "       [ 0.44444444,  0.44444444, -0.77777778],\n",
       "       [ 0.88888889, -0.11111111,  0.44444444]])"
      ]
     },
     "execution_count": 5,
     "metadata": {},
     "output_type": "execute_result"
    }
   ],
   "source": [
    "# normal test - without gimball lock\n",
    "a = np.array([1, -8 , 4, 4, 4, -7, 8, -1, 4]).reshape(3,3)/9\n",
    "a"
   ]
  },
  {
   "cell_type": "code",
   "execution_count": 6,
   "metadata": {},
   "outputs": [
    {
     "data": {
      "text/plain": [
       "(1.3258176636680326, -1.09491407713448, -0.24497866312686414)"
      ]
     },
     "execution_count": 6,
     "metadata": {},
     "output_type": "execute_result"
    }
   ],
   "source": [
    "conversionFromMatrixToEulers(a)"
   ]
  },
  {
   "cell_type": "code",
   "execution_count": 7,
   "metadata": {},
   "outputs": [
    {
     "data": {
      "text/plain": [
       "array([[ 0.        ,  0.70710678,  0.70710678],\n",
       "       [ 0.        ,  0.70710678, -0.70710678],\n",
       "       [-1.        ,  0.        ,  0.        ]])"
      ]
     },
     "execution_count": 7,
     "metadata": {},
     "output_type": "execute_result"
    }
   ],
   "source": [
    "q = 1/math.sqrt(2)\n",
    "b = np.array([0,q,q,0,q,-q,-1,0,0]).reshape(3,3)\n",
    "b"
   ]
  },
  {
   "cell_type": "code",
   "execution_count": 8,
   "metadata": {},
   "outputs": [
    {
     "data": {
      "text/plain": [
       "(2.356194490192345, 1.5707963267948966, 0)"
      ]
     },
     "execution_count": 8,
     "metadata": {},
     "output_type": "execute_result"
    }
   ],
   "source": [
    "conversionFromMatrixToEulers(b)"
   ]
  },
  {
   "cell_type": "code",
   "execution_count": 9,
   "metadata": {},
   "outputs": [],
   "source": [
    "def conversionFromEulersToMatrix(EulerAngles):\n",
    "    cs_rolling = math.cos(EulerAngles[0])\n",
    "    sn_rolling = math.sin(EulerAngles[0])\n",
    "    \n",
    "    cs_pitch = math.cos(EulerAngles[1])\n",
    "    sn_pitch = math.sin(EulerAngles[1])\n",
    "    \n",
    "    cs_yaw = math.cos(EulerAngles[2])\n",
    "    sn_yaw = math.sin(EulerAngles[2])\n",
    "    \n",
    "    RZ = np.array([cs_yaw, -sn_yaw, 0,\n",
    "                   sn_yaw, cs_yaw,  0,\n",
    "                   0     , 0,       1]).reshape(3,3)\n",
    "    \n",
    "    \n",
    "    RY = np.array([cs_pitch, 0, sn_pitch,\n",
    "                  0        , 1,        0,\n",
    "                  -sn_pitch, 0, cs_pitch]).reshape(3,3)\n",
    "    \n",
    "    \n",
    "    RX = np.array([1       ,   0,           0,\n",
    "                   0, cs_rolling, -sn_rolling,\n",
    "                   0, sn_rolling,  cs_rolling]).reshape(3,3)\n",
    "    \n",
    "    P = np.dot(RZ,RY)\n",
    "    P = np.dot(P,RX)\n",
    "    return P"
   ]
  },
  {
   "cell_type": "code",
   "execution_count": 10,
   "metadata": {},
   "outputs": [
    {
     "data": {
      "text/plain": [
       "array([[ 0.11111111, -0.88888889, -0.44444444],\n",
       "       [ 0.44444444,  0.44444444, -0.77777778],\n",
       "       [ 0.88888889, -0.11111111,  0.44444444]])"
      ]
     },
     "execution_count": 10,
     "metadata": {},
     "output_type": "execute_result"
    }
   ],
   "source": [
    "conversionFromEulersToMatrix(e2)"
   ]
  },
  {
   "cell_type": "code",
   "execution_count": 11,
   "metadata": {},
   "outputs": [
    {
     "data": {
      "text/plain": [
       "array([[ 0.111111, -0.888889, -0.444444],\n",
       "       [ 0.444444,  0.444444, -0.777778],\n",
       "       [ 0.888889, -0.111111,  0.444444]])"
      ]
     },
     "execution_count": 11,
     "metadata": {},
     "output_type": "execute_result"
    }
   ],
   "source": [
    "A"
   ]
  },
  {
   "cell_type": "code",
   "execution_count": 12,
   "metadata": {},
   "outputs": [
    {
     "data": {
      "text/plain": [
       "array([[ 0.76000879, -0.05996641,  0.64714038],\n",
       "       [ 0.43879128,  0.78187496, -0.44286991],\n",
       "       [-0.47942554,  0.62054458,  0.62054458]])"
      ]
     },
     "execution_count": 12,
     "metadata": {},
     "output_type": "execute_result"
    }
   ],
   "source": [
    "conversionFromEulersToMatrix((math.pi/4, 0.5, math.pi/6))"
   ]
  },
  {
   "cell_type": "markdown",
   "metadata": {},
   "source": [
    "$Matrix$ $notation \\leftrightarrow Angle$ $Axis$"
   ]
  },
  {
   "cell_type": "code",
   "execution_count": 13,
   "metadata": {},
   "outputs": [],
   "source": [
    "def A2AngleAxis(transformation):\n",
    "    l, x = np.linalg.eig(transformation)\n",
    "    p = []\n",
    "    \n",
    "    for i in range(0,len(l)):\n",
    "        # print(eigs[0][i], eigs[1][i])\n",
    "        if (l[i].real-1.0) < 0.2:\n",
    "            p = x[i]\n",
    "            p = [e.real for e in p]\n",
    "            print(p)\n",
    "            break\n",
    "    \n",
    "    euc = math.sqrt(p[0]**2 + p[1]**2 + p[2]**2)\n",
    "    p = [e/euc for e in p]\n",
    "    u = np.array([-p[1], p[0], 0])\n",
    "    euc = math.sqrt((u[0]**2 + u[1]**2 + u[2]**2))\n",
    "    u = np.array([e/euc for e in u])\n",
    "    u = u.reshape(3,1)\n",
    "    u_prim = np.dot(transformation, u)\n",
    "    u_prim = u_prim.reshape(3,)\n",
    "    \n",
    "    u = u.reshape(1,3)\n",
    "    u = u[0]\n",
    "    \n",
    "    angle = np.arccos(np.dot(u,u_prim))\n",
    "    \n",
    "    a = np.array([u[0], u[1], u[2],\n",
    "                  u_prim[0], u_prim[1], u_prim[2],\n",
    "                  p[0], p[1], p[2]], dtype = 'float').reshape(3,3)\n",
    "    \n",
    "    if np.linalg.det(a) < 0:\n",
    "        p = (-1) * p\n",
    "    \n",
    "    return (p, angle)\n",
    "    "
   ]
  },
  {
   "cell_type": "code",
   "execution_count": 14,
   "metadata": {},
   "outputs": [
    {
     "name": "stdout",
     "output_type": "stream",
     "text": [
      "[-0.6666665925925579, -0.6666665925925579, 0.33333362962961616]\n"
     ]
    },
    {
     "data": {
      "text/plain": [
       "([-0.6666665925925589, -0.6666665925925589, 0.33333362962961666],\n",
       " 1.0471975511965976)"
      ]
     },
     "execution_count": 14,
     "metadata": {},
     "output_type": "execute_result"
    }
   ],
   "source": [
    "A2AngleAxis(A)"
   ]
  },
  {
   "cell_type": "code",
   "execution_count": 15,
   "metadata": {},
   "outputs": [
    {
     "data": {
      "text/plain": [
       "([0.3333333333333333, -0.6666666666666666, 0.6666666666666666],\n",
       " 1.5707963267948966)"
      ]
     },
     "execution_count": 15,
     "metadata": {},
     "output_type": "execute_result"
    }
   ],
   "source": [
    "Aa"
   ]
  },
  {
   "cell_type": "code",
   "execution_count": 16,
   "metadata": {},
   "outputs": [
    {
     "name": "stdout",
     "output_type": "stream",
     "text": [
      "[[ 0.111111 -0.888889 -0.444444]\n",
      " [ 0.444444  0.444444 -0.777778]\n",
      " [ 0.888889 -0.111111  0.444444]]\n"
     ]
    }
   ],
   "source": [
    "def Rodriguez(angle, vector):\n",
    "    p1 = vector[0]\n",
    "    p2 = vector[1]\n",
    "    p3 = vector[2]\n",
    "    \n",
    "    q = math.sqrt(p1**2 + p2 ** 2 + p3**2)\n",
    "    p1 /= q\n",
    "    p2 /= q\n",
    "    p3 /= q\n",
    "    p = np.array([p1,p2,p3]).reshape(1,3)\n",
    "    pT = p.reshape(3,1)\n",
    "    \n",
    "    E = np.eye(3)\n",
    "    px = np.array([0, -p3, p2, p3, 0, -p1, -p2, p1, 0]).reshape(3,3)\n",
    "    \n",
    "    A = math.sin(angle) * px\n",
    "    A = A + E * math.cos(angle)\n",
    "    A = A + (1 - math.cos(angle)) * pT.dot(p)\n",
    "    \n",
    "    return A\n",
    "print(A)"
   ]
  },
  {
   "cell_type": "code",
   "execution_count": 17,
   "metadata": {},
   "outputs": [
    {
     "data": {
      "text/plain": [
       "array([[ 0.11111111, -0.88888889, -0.44444444],\n",
       "       [ 0.44444444,  0.44444444, -0.77777778],\n",
       "       [ 0.88888889, -0.11111111,  0.44444444]])"
      ]
     },
     "execution_count": 17,
     "metadata": {},
     "output_type": "execute_result"
    }
   ],
   "source": [
    "Rodriguez(vector = Aa[0], angle = Aa[1])"
   ]
  },
  {
   "cell_type": "code",
   "execution_count": 18,
   "metadata": {},
   "outputs": [
    {
     "data": {
      "text/plain": [
       "array([[ 0.66666667, -0.33333333,  0.66666667],\n",
       "       [ 0.66666667,  0.66666667, -0.33333333],\n",
       "       [-0.33333333,  0.66666667,  0.66666667]])"
      ]
     },
     "execution_count": 18,
     "metadata": {},
     "output_type": "execute_result"
    }
   ],
   "source": [
    "p = np.array([1,1,1]) * (math.sqrt(3) / 3)\n",
    "Rodriguez(math.pi/3, p)"
   ]
  },
  {
   "cell_type": "markdown",
   "metadata": {},
   "source": [
    "$Angle$ $axis \\leftrightarrow Quaternions $ "
   ]
  },
  {
   "cell_type": "code",
   "execution_count": 19,
   "metadata": {},
   "outputs": [],
   "source": [
    "def AngleAxis2Q(angle, vector):\n",
    "    w = math.cos(angle/2)\n",
    "    p_intensity = math.sqrt(vector[0]**2 + vector[1]**2 + vector[2]**2)\n",
    "    p = np.array([vector[0], vector[1], vector[2]])/p_intensity\n",
    "    \n",
    "    qijk = math.sin(angle/2) * p\n",
    "    \n",
    "    return (qijk[0], qijk[1], qijk[2], w);   "
   ]
  },
  {
   "cell_type": "code",
   "execution_count": 28,
   "metadata": {},
   "outputs": [
    {
     "name": "stdout",
     "output_type": "stream",
     "text": [
      "(0.2357022603955158, -0.4714045207910316, 0.4714045207910316, 0.7071067811865476)\n"
     ]
    },
    {
     "data": {
      "text/plain": [
       "(0.2357022603955158,\n",
       " -0.47140452079103173,\n",
       " 0.47140452079103173,\n",
       " 0.7071067811865475)"
      ]
     },
     "execution_count": 28,
     "metadata": {},
     "output_type": "execute_result"
    }
   ],
   "source": [
    "print(AngleAxis2Q(vector = Aa[0], angle = Aa[1]))\n",
    "q"
   ]
  },
  {
   "cell_type": "code",
   "execution_count": 26,
   "metadata": {},
   "outputs": [],
   "source": [
    "def Q2AngleAxis(q):\n",
    "    i, j, k , w = q\n",
    "    \n",
    "    if w < 0:\n",
    "        i *= -1\n",
    "        j *= -1\n",
    "        k *= -1\n",
    "        w *= -1\n",
    "    \n",
    "    angle = 2 * np.arccos(w)\n",
    "    \n",
    "    if abs(w) == 1:\n",
    "        p = (1,0,0)\n",
    "    else:\n",
    "        u = math.sqrt(i**2 + j**2 + k**2)\n",
    "        p = (i/u, j/u, k/u)\n",
    "    \n",
    "    return (p,angle)\n",
    "        "
   ]
  },
  {
   "cell_type": "code",
   "execution_count": 27,
   "metadata": {},
   "outputs": [
    {
     "name": "stdout",
     "output_type": "stream",
     "text": [
      "((0.33333333333333326, -0.6666666666666667, 0.6666666666666667), 1.5707963267948968)\n"
     ]
    },
    {
     "data": {
      "text/plain": [
       "([0.3333333333333333, -0.6666666666666666, 0.6666666666666666],\n",
       " 1.5707963267948966)"
      ]
     },
     "execution_count": 27,
     "metadata": {},
     "output_type": "execute_result"
    }
   ],
   "source": [
    "print(Q2AngleAxis(q))\n",
    "Aa"
   ]
  }
 ],
 "metadata": {
  "kernelspec": {
   "display_name": "Python 3",
   "language": "python",
   "name": "python3"
  },
  "language_info": {
   "codemirror_mode": {
    "name": "ipython",
    "version": 3
   },
   "file_extension": ".py",
   "mimetype": "text/x-python",
   "name": "python",
   "nbconvert_exporter": "python",
   "pygments_lexer": "ipython3",
   "version": "3.6.8"
  }
 },
 "nbformat": 4,
 "nbformat_minor": 2
}
