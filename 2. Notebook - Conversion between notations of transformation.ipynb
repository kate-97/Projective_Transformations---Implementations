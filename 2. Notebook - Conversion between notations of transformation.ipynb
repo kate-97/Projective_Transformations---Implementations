{
 "cells": [
  {
   "cell_type": "markdown",
   "metadata": {},
   "source": [
    "# Conversion between different notations"
   ]
  },
  {
   "cell_type": "code",
   "execution_count": 2,
   "metadata": {},
   "outputs": [],
   "source": [
    "import numpy as np\n",
    "import math"
   ]
  },
  {
   "cell_type": "markdown",
   "metadata": {},
   "source": [
    "## Tests"
   ]
  },
  {
   "cell_type": "code",
   "execution_count": 7,
   "metadata": {},
   "outputs": [
    {
     "name": "stdout",
     "output_type": "stream",
     "text": [
      "(-0.24497866312686414, -1.09491407713448, 1.3258176636680326)\n"
     ]
    }
   ],
   "source": [
    "e2 = ( -np.arctan(0.25), -np.arcsin(8/9), np.arctan(4))\n",
    "print(e2)\n",
    "A = np.array([0.111111 , -0.888889, -0.444444, \n",
    "              0.444444 ,  0.444444, -0.777778,\n",
    "              0.888889 , -0.111111,  0.444444]).reshape(3,3)\n",
    "\n",
    "Aa = ([1/3, -2/3, 2/3], math.pi/2)\n",
    "q = (1/(3 * math.sqrt(2))  , -math.sqrt(2)/3 , math.sqrt(2)/3, 1/math.sqrt(2))"
   ]
  },
  {
   "cell_type": "markdown",
   "metadata": {},
   "source": [
    "$ Matrix$ $notation \\leftrightarrow Euler's $ $ angles $"
   ]
  },
  {
   "cell_type": "code",
   "execution_count": 5,
   "metadata": {},
   "outputs": [],
   "source": [
    "def conversionFromMatrixToEulers(transformation):\n",
    "    if abs(transformation[2,0]) < 1:\n",
    "        # normal case\n",
    "        yaw = math.atan2(transformation[1,0], transformation[0,0])\n",
    "        pitch = np.arcsin(-transformation[2,0])\n",
    "        rolling = math.atan2(transformation[2,1], transformation[2,2])\n",
    "    elif transformation[2,0] == -1:\n",
    "        # gimball lock\n",
    "        yaw = math.atan2(-transformation[0,1], transformation[1,1])\n",
    "        pitch = math.pi / 2\n",
    "        rolling = 0\n",
    "    elif transformation[2,0] == 1:\n",
    "        # gimball lock\n",
    "        yaw = math.atan2(-transformation[0,1], transformation[1,1])\n",
    "        pitch = -math.pi / 2\n",
    "        rolling = 0\n",
    "    \n",
    "    return (yaw, pitch, rolling)"
   ]
  },
  {
   "cell_type": "code",
   "execution_count": 6,
   "metadata": {},
   "outputs": [
    {
     "data": {
      "text/plain": [
       "(-1.4464414707096587, 0.4605534955424451, -1.0516507663945445)"
      ]
     },
     "execution_count": 6,
     "metadata": {},
     "output_type": "execute_result"
    }
   ],
   "source": [
    "conversionFromMatrixToEulers(A)"
   ]
  },
  {
   "cell_type": "code",
   "execution_count": 5,
   "metadata": {},
   "outputs": [
    {
     "data": {
      "text/plain": [
       "array([[ 0.11111111, -0.88888889,  0.44444444],\n",
       "       [ 0.44444444,  0.44444444, -0.77777778],\n",
       "       [ 0.88888889, -0.11111111,  0.44444444]])"
      ]
     },
     "execution_count": 5,
     "metadata": {},
     "output_type": "execute_result"
    }
   ],
   "source": [
    "# normal test - without gimball lock\n",
    "a = np.array([1, -8 , 4, 4, 4, -7, 8, -1, 4]).reshape(3,3)/9\n",
    "a"
   ]
  },
  {
   "cell_type": "code",
   "execution_count": 6,
   "metadata": {},
   "outputs": [
    {
     "data": {
      "text/plain": [
       "(1.3258176636680326, -1.09491407713448, -0.24497866312686414)"
      ]
     },
     "execution_count": 6,
     "metadata": {},
     "output_type": "execute_result"
    }
   ],
   "source": [
    "conversionFromMatrixToEulers(a)"
   ]
  },
  {
   "cell_type": "code",
   "execution_count": 7,
   "metadata": {},
   "outputs": [
    {
     "data": {
      "text/plain": [
       "array([[ 0.        ,  0.70710678,  0.70710678],\n",
       "       [ 0.        ,  0.70710678, -0.70710678],\n",
       "       [-1.        ,  0.        ,  0.        ]])"
      ]
     },
     "execution_count": 7,
     "metadata": {},
     "output_type": "execute_result"
    }
   ],
   "source": [
    "q = 1/math.sqrt(2)\n",
    "b = np.array([0,q,q,0,q,-q,-1,0,0]).reshape(3,3)\n",
    "b"
   ]
  },
  {
   "cell_type": "code",
   "execution_count": 8,
   "metadata": {},
   "outputs": [
    {
     "data": {
      "text/plain": [
       "(-0.7853981633974483, 1.5707963267948966, 0)"
      ]
     },
     "execution_count": 8,
     "metadata": {},
     "output_type": "execute_result"
    }
   ],
   "source": [
    "conversionFromMatrixToEulers(b)"
   ]
  },
  {
   "cell_type": "code",
   "execution_count": 3,
   "metadata": {},
   "outputs": [],
   "source": [
    "def conversionFromEulersToMatrix(EulerAngles):\n",
    "    cs_yaw = math.cos(EulerAngles[0])\n",
    "    sn_yaw = math.sin(EulerAngles[0])\n",
    "    \n",
    "    cs_pitch = math.cos(EulerAngles[1])\n",
    "    sn_pitch = math.sin(EulerAngles[1])\n",
    "    \n",
    "    cs_rolling = math.cos(EulerAngles[2])\n",
    "    sn_rolling = math.sin(EulerAngles[2])\n",
    "    \n",
    "    RZ = np.array([cs_yaw, -sn_yaw, 0, sn_yaw, cs_yaw, 0, 0, 0, 1]).reshape(3,3)\n",
    "    RY = np.array([cs_pitch, 0, sn_pitch, 0, 1, 0, -sn_pitch, 0, cs_pitch]).reshape(3,3)\n",
    "    RX = np.array([1, 0, 0, 0, cs_rolling, -sn_rolling, 0, sn_rolling, cs_rolling]).reshape(3,3)\n",
    "    \n",
    "    return RZ.dot( np.dot(RY, RX))"
   ]
  },
  {
   "cell_type": "code",
   "execution_count": 9,
   "metadata": {},
   "outputs": [
    {
     "data": {
      "text/plain": [
       "array([[ 0.44444444, -0.77777778, -0.44444444],\n",
       "       [-0.11111111,  0.44444444, -0.88888889],\n",
       "       [ 0.88888889,  0.44444444,  0.11111111]])"
      ]
     },
     "execution_count": 9,
     "metadata": {},
     "output_type": "execute_result"
    }
   ],
   "source": [
    "conversionFromEulersToMatrix(e2)"
   ]
  },
  {
   "cell_type": "code",
   "execution_count": 10,
   "metadata": {},
   "outputs": [
    {
     "data": {
      "text/plain": [
       "array([[ 0.62054458, -0.44286991,  0.64714038],\n",
       "       [ 0.62054458,  0.78187496, -0.05996641],\n",
       "       [-0.47942554,  0.43879128,  0.76000879]])"
      ]
     },
     "execution_count": 10,
     "metadata": {},
     "output_type": "execute_result"
    }
   ],
   "source": [
    "conversionFromEulersToMatrix((math.pi/4, 0.5, math.pi/6))"
   ]
  },
  {
   "cell_type": "markdown",
   "metadata": {},
   "source": [
    "$Matrix$ $notation \\leftrightarrow Angle$ $Axis$"
   ]
  },
  {
   "cell_type": "code",
   "execution_count": 15,
   "metadata": {},
   "outputs": [],
   "source": [
    "def A2AngleAxis(transformation):\n",
    "    eigs = np.linalg.eig(transformation)\n",
    "    p = []\n",
    "    \n",
    "    for i in range(0,len(eigs[0])):\n",
    "        # print(eigs[0][i], eigs[1][i])\n",
    "        if eigs[0][i] == 1 and sum([c**2 for c in eigs[1][i]]) == 1.0:\n",
    "            p = e\n",
    "            break\n",
    "    \n",
    "    u = np.array([-p[0], p[1], 0]).reshape(3,1)\n",
    "    u_prim = np.dot(transformation, u).reshape(1,3)\n",
    "    angle = np.arccos(np.dot(u, u_prim))\n",
    "    \n",
    "    a = np.array([p[0], p[1], p[2], \n",
    "                  u[0], u[1], u[2],\n",
    "                  u_prim[0], u_prim[1], u_prim[2]]).reshape(3,3)\n",
    "    \n",
    "    if np.linalg.det(a) < 0:\n",
    "        p = (-1) * p\n",
    "    \n",
    "    return (p, angle)\n",
    "    \n",
    "    "
   ]
  },
  {
   "cell_type": "code",
   "execution_count": 16,
   "metadata": {},
   "outputs": [
    {
     "name": "stdout",
     "output_type": "stream",
     "text": [
      "(-0.11474272465971622+0.6919968721868006j) [-4.08371277e-04+0.53474409j -4.08371277e-04-0.53474409j\n",
      "  5.85679803e-01+0.j        ]\n",
      "(-0.11474272465971622-0.6919968721868006j) [ 0.64958832+0.j  0.64958832-0.j -0.37852063+0.j]\n",
      "(1.2294854493194323+0j) [0.46679137-0.27237734j 0.46679137+0.27237734j 0.71672959+0.j        ]\n"
     ]
    },
    {
     "ename": "IndexError",
     "evalue": "list index out of range",
     "output_type": "error",
     "traceback": [
      "\u001b[0;31m---------------------------------------------------------------------------\u001b[0m",
      "\u001b[0;31mIndexError\u001b[0m                                Traceback (most recent call last)",
      "\u001b[0;32m<ipython-input-16-28d0924ecc9d>\u001b[0m in \u001b[0;36m<module>\u001b[0;34m\u001b[0m\n\u001b[0;32m----> 1\u001b[0;31m \u001b[0mA2AngleAxis\u001b[0m\u001b[0;34m(\u001b[0m\u001b[0ma\u001b[0m\u001b[0;34m)\u001b[0m\u001b[0;34m\u001b[0m\u001b[0;34m\u001b[0m\u001b[0m\n\u001b[0m",
      "\u001b[0;32m<ipython-input-15-7fc458a6ce69>\u001b[0m in \u001b[0;36mA2AngleAxis\u001b[0;34m(transformation)\u001b[0m\n\u001b[1;32m      9\u001b[0m             \u001b[0;32mbreak\u001b[0m\u001b[0;34m\u001b[0m\u001b[0;34m\u001b[0m\u001b[0m\n\u001b[1;32m     10\u001b[0m \u001b[0;34m\u001b[0m\u001b[0m\n\u001b[0;32m---> 11\u001b[0;31m     \u001b[0mu\u001b[0m \u001b[0;34m=\u001b[0m \u001b[0mnp\u001b[0m\u001b[0;34m.\u001b[0m\u001b[0marray\u001b[0m\u001b[0;34m(\u001b[0m\u001b[0;34m[\u001b[0m\u001b[0;34m-\u001b[0m\u001b[0mp\u001b[0m\u001b[0;34m[\u001b[0m\u001b[0;36m0\u001b[0m\u001b[0;34m]\u001b[0m\u001b[0;34m,\u001b[0m \u001b[0mp\u001b[0m\u001b[0;34m[\u001b[0m\u001b[0;36m1\u001b[0m\u001b[0;34m]\u001b[0m\u001b[0;34m,\u001b[0m \u001b[0;36m0\u001b[0m\u001b[0;34m]\u001b[0m\u001b[0;34m)\u001b[0m\u001b[0;34m.\u001b[0m\u001b[0mreshape\u001b[0m\u001b[0;34m(\u001b[0m\u001b[0;36m3\u001b[0m\u001b[0;34m,\u001b[0m\u001b[0;36m1\u001b[0m\u001b[0;34m)\u001b[0m\u001b[0;34m\u001b[0m\u001b[0;34m\u001b[0m\u001b[0m\n\u001b[0m\u001b[1;32m     12\u001b[0m     \u001b[0mu_prim\u001b[0m \u001b[0;34m=\u001b[0m \u001b[0mnp\u001b[0m\u001b[0;34m.\u001b[0m\u001b[0mdot\u001b[0m\u001b[0;34m(\u001b[0m\u001b[0mtransformation\u001b[0m\u001b[0;34m,\u001b[0m \u001b[0mu\u001b[0m\u001b[0;34m)\u001b[0m\u001b[0;34m.\u001b[0m\u001b[0mreshape\u001b[0m\u001b[0;34m(\u001b[0m\u001b[0;36m1\u001b[0m\u001b[0;34m,\u001b[0m\u001b[0;36m3\u001b[0m\u001b[0;34m)\u001b[0m\u001b[0;34m\u001b[0m\u001b[0;34m\u001b[0m\u001b[0m\n\u001b[1;32m     13\u001b[0m     \u001b[0mangle\u001b[0m \u001b[0;34m=\u001b[0m \u001b[0mnp\u001b[0m\u001b[0;34m.\u001b[0m\u001b[0marccos\u001b[0m\u001b[0;34m(\u001b[0m\u001b[0mnp\u001b[0m\u001b[0;34m.\u001b[0m\u001b[0mdot\u001b[0m\u001b[0;34m(\u001b[0m\u001b[0mu\u001b[0m\u001b[0;34m,\u001b[0m \u001b[0mu_prim\u001b[0m\u001b[0;34m)\u001b[0m\u001b[0;34m)\u001b[0m\u001b[0;34m\u001b[0m\u001b[0;34m\u001b[0m\u001b[0m\n",
      "\u001b[0;31mIndexError\u001b[0m: list index out of range"
     ]
    }
   ],
   "source": [
    "A2AngleAxis(a)"
   ]
  },
  {
   "cell_type": "code",
   "execution_count": 26,
   "metadata": {},
   "outputs": [
    {
     "name": "stdout",
     "output_type": "stream",
     "text": [
      "[[ 0.111111 -0.888889 -0.444444]\n",
      " [ 0.444444  0.444444 -0.777778]\n",
      " [ 0.888889 -0.111111  0.444444]]\n"
     ]
    }
   ],
   "source": [
    "def Rodriguez(angle, vector):\n",
    "    p1 = vector[0]\n",
    "    p2 = vector[1]\n",
    "    p3 = vector[2]\n",
    "    \n",
    "    q = math.sqrt(p1**2 + p2 ** 2 + p3**2)\n",
    "    p1 /= q\n",
    "    p2 /= q\n",
    "    p3 /= q\n",
    "    p = np.array([p1,p2,p3])\n",
    "    pT = p.reshape(3,1)\n",
    "    \n",
    "    E = np.eye(3)\n",
    "    px = np.array([0, -p3, p2, p3, 0, -1, -p2, p1, 0]).reshape(3,3)\n",
    "    \n",
    "    A = math.sin(angle) * px\n",
    "    A = A + E\n",
    "    A = A + (1 - math.cos(angle)) * pX.dot(px)\n",
    "    \n",
    "    return A\n",
    "print(A)"
   ]
  },
  {
   "cell_type": "code",
   "execution_count": 25,
   "metadata": {},
   "outputs": [
    {
     "name": "stdout",
     "output_type": "stream",
     "text": [
      "1.0\n"
     ]
    },
    {
     "data": {
      "text/plain": [
       "array([[ 1.11111111, -2.22222222, -1.33333333],\n",
       "       [ 1.33333333,  1.22222222, -3.44444444],\n",
       "       [ 2.22222222,  0.55555556,  1.22222222]])"
      ]
     },
     "execution_count": 25,
     "metadata": {},
     "output_type": "execute_result"
    }
   ],
   "source": [
    "Rodriguez(vector = Aa[0], angle = Aa[1])"
   ]
  },
  {
   "cell_type": "code",
   "execution_count": 39,
   "metadata": {},
   "outputs": [
    {
     "data": {
      "text/plain": [
       "array([[ 0.57735027, -0.42264973,  0.57735027],\n",
       "       [ 0.57735027,  0.57735027, -0.78867513],\n",
       "       [-0.42264973,  0.57735027,  0.57735027]])"
      ]
     },
     "execution_count": 39,
     "metadata": {},
     "output_type": "execute_result"
    }
   ],
   "source": [
    "p = np.array([1,1,1]) * (math.sqrt(3) / 3)\n",
    "Rodriguez(math.pi/3, p)"
   ]
  },
  {
   "cell_type": "markdown",
   "metadata": {},
   "source": [
    "$Angle$ $axis \\leftrightarrow Quaternions $ "
   ]
  },
  {
   "cell_type": "code",
   "execution_count": 21,
   "metadata": {},
   "outputs": [],
   "source": [
    "def AngleAxis2Q(angle, vector):\n",
    "    w = math.cos(angle/2)\n",
    "    p_intensity = math.sqrt(vector[0]**2 + vector[1]**2 + vector[2]**2)\n",
    "    p = np.array([vector[0], vector[1], vector[2]])/p_intensity\n",
    "    \n",
    "    qijk = math.sin(angle/2) * p\n",
    "    \n",
    "    return (qijk[0], qijk[1], qijk[2], w);   "
   ]
  },
  {
   "cell_type": "code",
   "execution_count": 27,
   "metadata": {},
   "outputs": [
    {
     "name": "stdout",
     "output_type": "stream",
     "text": [
      "(0.2357022603955158, -0.4714045207910316, 0.4714045207910316, 0.7071067811865476)\n"
     ]
    },
    {
     "data": {
      "text/plain": [
       "(0.2357022603955158,\n",
       " -0.47140452079103173,\n",
       " 0.47140452079103173,\n",
       " 0.7071067811865475)"
      ]
     },
     "execution_count": 27,
     "metadata": {},
     "output_type": "execute_result"
    }
   ],
   "source": [
    "print(AngleAxis2Q(vector = Aa[0], angle = Aa[1]))\n",
    "q"
   ]
  },
  {
   "cell_type": "code",
   "execution_count": 23,
   "metadata": {},
   "outputs": [],
   "source": [
    "def Q2AngleAxis(q):\n",
    "    i, j, k , w = q\n",
    "    \n",
    "    if w < 0:\n",
    "        i *= -1\n",
    "        j *= -1\n",
    "        k *= -1\n",
    "        w *= -1\n",
    "    \n",
    "    angle = 2 * np.arccos(w)\n",
    "    \n",
    "    if abs(w) == 1:\n",
    "        p = (1,0,0)\n",
    "    else:\n",
    "        u = math.sqrt(i**2 + j**2 + k**2)\n",
    "        p = (i/u, j/u, k/u)\n",
    "    \n",
    "    return (p,angle)\n",
    "        "
   ]
  },
  {
   "cell_type": "code",
   "execution_count": 26,
   "metadata": {},
   "outputs": [
    {
     "name": "stdout",
     "output_type": "stream",
     "text": [
      "((0.33333333333333326, -0.6666666666666667, 0.6666666666666667), 1.5707963267948968)\n"
     ]
    },
    {
     "data": {
      "text/plain": [
       "([0.3333333333333333, -0.6666666666666666, 0.6666666666666666],\n",
       " 1.5707963267948966)"
      ]
     },
     "execution_count": 26,
     "metadata": {},
     "output_type": "execute_result"
    }
   ],
   "source": [
    "print(Q2AngleAxis(q))\n",
    "Aa"
   ]
  }
 ],
 "metadata": {
  "kernelspec": {
   "display_name": "Python 3",
   "language": "python",
   "name": "python3"
  },
  "language_info": {
   "codemirror_mode": {
    "name": "ipython",
    "version": 3
   },
   "file_extension": ".py",
   "mimetype": "text/x-python",
   "name": "python",
   "nbconvert_exporter": "python",
   "pygments_lexer": "ipython3",
   "version": "3.6.8"
  }
 },
 "nbformat": 4,
 "nbformat_minor": 2
}
